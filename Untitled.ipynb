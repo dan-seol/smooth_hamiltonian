{
 "cells": [
  {
   "cell_type": "code",
   "execution_count": 1,
   "id": "c0605283-2802-4a33-ac6c-2637200871ac",
   "metadata": {},
   "outputs": [],
   "source": [
    "import pennylane as qml\n",
    "import numpy as np"
   ]
  },
  {
   "cell_type": "code",
   "execution_count": 2,
   "id": "8fb5fd59-5de7-4583-9d23-732bf0107c47",
   "metadata": {},
   "outputs": [],
   "source": [
    "def smooth_function(x):\n",
    "    assert -1 <= x <= 1\n",
    "    return x**3\n",
    "\n",
    "\n",
    "def get_ket(j, N):\n",
    "    ket = np.zeros(N, dtype=complex)\n",
    "    ket[j] = 1\n",
    "    return ket"
   ]
  },
  {
   "cell_type": "code",
   "execution_count": 4,
   "id": "3fb27033-3e13-4e6b-9cd6-f57378a7455d",
   "metadata": {},
   "outputs": [],
   "source": [
    "def get_hyperplane_term(j, A, d, N):\n",
    "    for k in np.nonzero(A[j]):\n",
    "        first_term = np.sqrt(np.conj(A[j][k]))*get_ket(k, N)\n",
    "        second_term = np.sqrt(1-np.abs(A[j][k]))*get_ket(k+N, N)\n",
    "        yield first_term + second_term\n",
    "\n",
    "\n",
    "def get_hyperplane_basis(A, d, N):\n",
    "    for j in range(N):   # (33)\n",
    "        yield np.outer(\n",
    "            np.kron(get_ket(j, N), 1/np.sqrt(d)*sum(get_hyperplane_term(j, A, d, N))),\n",
    "            get_ket(j, N)\n",
    "        )\n",
    "\n",
    "\n",
    "def get_isometry(A, d, N):\n",
    "    return np.sum(list(get_hyperplane_basis(A, d, N)), 0)"
   ]
  },
  {
   "cell_type": "code",
   "execution_count": null,
   "id": "d38a1e31-b219-4a10-b027-5c6a589d7b08",
   "metadata": {},
   "outputs": [],
   "source": []
  }
 ],
 "metadata": {
  "kernelspec": {
   "display_name": "Python 3 (ipykernel)",
   "language": "python",
   "name": "python3"
  },
  "language_info": {
   "codemirror_mode": {
    "name": "ipython",
    "version": 3
   },
   "file_extension": ".py",
   "mimetype": "text/x-python",
   "name": "python",
   "nbconvert_exporter": "python",
   "pygments_lexer": "ipython3",
   "version": "3.12.1"
  }
 },
 "nbformat": 4,
 "nbformat_minor": 5
}
